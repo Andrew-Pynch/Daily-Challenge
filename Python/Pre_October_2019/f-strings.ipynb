{
 "cells": [
  {
   "cell_type": "code",
   "execution_count": 2,
   "metadata": {},
   "outputs": [
    {
     "data": {
      "text/plain": [
       "'\\n% formatting is not recommended by documentation. It often fails to display dictionaries\\nand tuples properly.\\n'"
      ]
     },
     "execution_count": 2,
     "metadata": {},
     "output_type": "execute_result"
    }
   ],
   "source": [
    "# % Formatting \n",
    "'''\n",
    "% formatting is not recommended by documentation. It often fails to display dictionaries\n",
    "and tuples properly.\n",
    "'''"
   ]
  },
  {
   "cell_type": "code",
   "execution_count": 3,
   "metadata": {},
   "outputs": [
    {
     "data": {
      "text/plain": [
       "'Hello, Andrew'"
      ]
     },
     "execution_count": 3,
     "metadata": {},
     "output_type": "execute_result"
    }
   ],
   "source": [
    "# Formatting strings\n",
    "name = 'Andrew'\n",
    "\"Hello, %s\" % name"
   ]
  },
  {
   "cell_type": "code",
   "execution_count": 4,
   "metadata": {},
   "outputs": [
    {
     "data": {
      "text/plain": [
       "'Hello, Andrew. You are 18.'"
      ]
     },
     "execution_count": 4,
     "metadata": {},
     "output_type": "execute_result"
    }
   ],
   "source": [
    "# Formatting more than one variable with a tuple of variables\n",
    "name = 'Andrew'\n",
    "age = 18\n",
    "'Hello, %s. You are %s.' % (name, age)"
   ]
  },
  {
   "cell_type": "code",
   "execution_count": 11,
   "metadata": {},
   "outputs": [
    {
     "data": {
      "text/plain": [
       "'Hello, Andrew Pynch. You are 18 years old. Your profession is Machine Learning Engineer and you are a member of CPP Corp!'"
      ]
     },
     "execution_count": 11,
     "metadata": {},
     "output_type": "execute_result"
    }
   ],
   "source": [
    "# Example of why % formatting can get messy and confusing\n",
    "first_name = 'Andrew'\n",
    "last_name = 'Pynch'\n",
    "age = 18\n",
    "profession = 'Machine Learning Engineer'\n",
    "affiliation = 'CPP Corp'\n",
    "\"Hello, %s %s. You are %s years old. Your profession is %s and you are a member of %s!\" % (first_name, last_name, age, profession, affiliation)"
   ]
  },
  {
   "cell_type": "code",
   "execution_count": 13,
   "metadata": {},
   "outputs": [
    {
     "data": {
      "text/plain": [
       "'Hello, 18 Pynch, you are Andrew years old!'"
      ]
     },
     "execution_count": 13,
     "metadata": {},
     "output_type": "execute_result"
    }
   ],
   "source": [
    "# str.format() formatting\n",
    "'Hello, {} {}, you are {} years old!'.format(first_name, last_name, age)"
   ]
  },
  {
   "cell_type": "code",
   "execution_count": 14,
   "metadata": {},
   "outputs": [
    {
     "data": {
      "text/plain": [
       "'Hello, 18 Pynch, you are Andrew years old!'"
      ]
     },
     "execution_count": 14,
     "metadata": {},
     "output_type": "execute_result"
    }
   ],
   "source": [
    "# Referencing by index :D\n",
    "'Hello, {2} {1}, you are {0} years old!'.format(first_name, last_name, age)"
   ]
  },
  {
   "cell_type": "code",
   "execution_count": 17,
   "metadata": {},
   "outputs": [
    {
     "data": {
      "text/plain": [
       "'Hello, Andrew. You are 18 years old'"
      ]
     },
     "execution_count": 17,
     "metadata": {},
     "output_type": "execute_result"
    }
   ],
   "source": [
    "# Using the ** trick for dictionaries :O\n",
    "person = {'name': 'Andrew', 'age': '18'}\n",
    "\"Hello, {name}. You are {age} years old\".format(**person)"
   ]
  },
  {
   "cell_type": "code",
   "execution_count": 19,
   "metadata": {},
   "outputs": [
    {
     "name": "stdout",
     "output_type": "stream",
     "text": [
      "Hello, Andrew Pynch. You are 18. You are a Machine Learning Engineer. You were a member of CPP Corp.\n"
     ]
    }
   ],
   "source": [
    "# Why F Strings still kind of suck :/\n",
    "first_name = 'Andrew'\n",
    "last_name = 'Pynch'\n",
    "age = 18\n",
    "profession = 'Machine Learning Engineer'\n",
    "affiliation = 'CPP Corp'\n",
    "print((\"Hello, {first_name} {last_name}. You are {age}. \" + \n",
    "       \"You are a {profession}. You were a member of {affiliation}.\") \\\n",
    "       .format(first_name=first_name, last_name=last_name, age=age, \\\n",
    "               profession=profession, affiliation=affiliation))\n",
    "\n",
    "# YIKES"
   ]
  },
  {
   "cell_type": "code",
   "execution_count": 22,
   "metadata": {},
   "outputs": [
    {
     "data": {
      "text/plain": [
       "'Hello, Andrew. You are 18 years old!'"
      ]
     },
     "execution_count": 22,
     "metadata": {},
     "output_type": "execute_result"
    }
   ],
   "source": [
    "# F-strings, a glorious way to Format strings in Python\n",
    "name = 'Andrew'\n",
    "age = 18\n",
    "f\"Hello, {name}. You are {age} years old!\"\n",
    "\n",
    "# Note capital F works as well ;)"
   ]
  },
  {
   "cell_type": "code",
   "execution_count": 24,
   "metadata": {},
   "outputs": [
    {
     "data": {
      "text/plain": [
       "'138'"
      ]
     },
     "execution_count": 24,
     "metadata": {},
     "output_type": "execute_result"
    }
   ],
   "source": [
    "# Multiply numbers within an F-string :O\n",
    "f'{69 * 2}'"
   ]
  },
  {
   "cell_type": "code",
   "execution_count": 31,
   "metadata": {},
   "outputs": [
    {
     "data": {
      "text/plain": [
       "'andrew pynch is a funny guy!'"
      ]
     },
     "execution_count": 31,
     "metadata": {},
     "output_type": "execute_result"
    }
   ],
   "source": [
    "# Function calls with F-strings\n",
    "def to_lowercase(input):\n",
    "    return input.lower()\n",
    "\n",
    "full_name = 'AnDRew PyNCh'\n",
    "f\"{to_lowercase(full_name)} is a funny guy!\""
   ]
  },
  {
   "cell_type": "code",
   "execution_count": 32,
   "metadata": {},
   "outputs": [
    {
     "data": {
      "text/plain": [
       "'andrew is a male belonging to the species homo of the genus sapien'"
      ]
     },
     "execution_count": 32,
     "metadata": {},
     "output_type": "execute_result"
    }
   ],
   "source": [
    "# You can even call methods directly\n",
    "f'{name.lower()} is a male belonging to the species homo of the genus sapien'"
   ]
  }
 ],
 "metadata": {
  "kernelspec": {
   "display_name": "Python 3",
   "language": "python",
   "name": "python3"
  },
  "language_info": {
   "codemirror_mode": {
    "name": "ipython",
    "version": 3
   },
   "file_extension": ".py",
   "mimetype": "text/x-python",
   "name": "python",
   "nbconvert_exporter": "python",
   "pygments_lexer": "ipython3",
   "version": "3.7.3"
  }
 },
 "nbformat": 4,
 "nbformat_minor": 2
}
